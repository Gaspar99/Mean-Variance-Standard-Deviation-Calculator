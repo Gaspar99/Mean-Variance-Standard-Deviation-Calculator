{
 "cells": [
  {
   "cell_type": "code",
   "execution_count": 1,
   "id": "89c6c540-a083-49a2-b9ad-887189c1dd8f",
   "metadata": {},
   "outputs": [],
   "source": [
    "import pandas as pd \n",
    "import numpy as np"
   ]
  },
  {
   "cell_type": "code",
   "execution_count": 2,
   "id": "a6ef6dc3-d1d7-43fd-968e-9abd16f68c4a",
   "metadata": {},
   "outputs": [],
   "source": [
    "from mean_var_str import calculate"
   ]
  },
  {
   "cell_type": "code",
   "execution_count": 3,
   "id": "addbf06c-b51a-43e9-8eaa-fa92871cc694",
   "metadata": {},
   "outputs": [],
   "source": [
    "data = [1, 2, 3, 4, 5, 6, 7, 8, 9]"
   ]
  },
  {
   "cell_type": "code",
   "execution_count": 4,
   "id": "c6d4d5ce-dc07-471c-a13c-df7afb5b838d",
   "metadata": {},
   "outputs": [
    {
     "name": "stdout",
     "output_type": "stream",
     "text": [
      "{'mean': [[4.0, 5.0, 6.0], [2.0, 5.0, 8.0], 5.0], 'variance': [[6.0, 6.0, 6.0], [0.6666666666666666, 0.6666666666666666, 0.6666666666666666], 6.666666666666667], 'standard deviation': [[2.449489742783178, 2.449489742783178, 2.449489742783178], [0.816496580927726, 0.816496580927726, 0.816496580927726], 2.581988897471611], 'max': [[7, 8, 9], [3, 6, 9], 9], 'min': [[1, 2, 3], [1, 4, 7], 1], 'sum': [[12, 15, 18], [6, 15, 24], 45]}\n"
     ]
    }
   ],
   "source": [
    "results = calculate(data)\n",
    "print(results)"
   ]
  },
  {
   "cell_type": "code",
   "execution_count": null,
   "id": "f6ac66b5-26c5-42e1-adda-157231f238fd",
   "metadata": {},
   "outputs": [],
   "source": []
  }
 ],
 "metadata": {
  "kernelspec": {
   "display_name": "Python 3 (ipykernel)",
   "language": "python",
   "name": "python3"
  },
  "language_info": {
   "codemirror_mode": {
    "name": "ipython",
    "version": 3
   },
   "file_extension": ".py",
   "mimetype": "text/x-python",
   "name": "python",
   "nbconvert_exporter": "python",
   "pygments_lexer": "ipython3",
   "version": "3.10.11"
  }
 },
 "nbformat": 4,
 "nbformat_minor": 5
}
